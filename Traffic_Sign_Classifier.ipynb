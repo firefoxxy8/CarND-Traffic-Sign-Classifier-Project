{
 "cells": [
  {
   "cell_type": "markdown",
   "metadata": {},
   "source": [
    "# Self-Driving Car Engineer Nanodegree\n",
    "\n",
    "## Deep Learning\n",
    "\n",
    "## Project: Build a Traffic Sign Recognition Classifier\n",
    "\n",
    "In this notebook, a template is provided for you to implement your functionality in stages which is required to successfully complete this project. If additional code is required that cannot be included in the notebook, be sure that the Python code is successfully imported and included in your submission, if necessary. Sections that begin with **'Implementation'** in the header indicate where you should begin your implementation for your project. Note that some sections of implementation are optional, and will be marked with **'Optional'** in the header.\n",
    "\n",
    "In addition to implementing code, there will be questions that you must answer which relate to the project and your implementation. Each section where you will answer a question is preceded by a **'Question'** header. Carefully read each question and provide thorough answers in the following text boxes that begin with **'Answer:'**. Your project submission will be evaluated based on your answers to each of the questions and the implementation you provide.\n",
    "\n",
    ">**Note:** Code and Markdown cells can be executed using the **Shift + Enter** keyboard shortcut. In addition, Markdown cells can be edited by typically double-clicking the cell to enter edit mode."
   ]
  },
  {
   "cell_type": "markdown",
   "metadata": {},
   "source": [
    "---\n",
    "## Step 0: Load The Data"
   ]
  },
  {
   "cell_type": "code",
   "execution_count": 15,
   "metadata": {
    "collapsed": false
   },
   "outputs": [],
   "source": [
    "# Load pickled data\n",
    "import pickle\n",
    "\n",
    "# TODO: Fill this in based on where you saved the training and testing data\n",
    "\n",
    "training_file = 'train.p'\n",
    "testing_file = 'test.p'\n",
    "\n",
    "with open(training_file, mode='rb') as f:\n",
    "    train = pickle.load(f)\n",
    "with open(testing_file, mode='rb') as f:\n",
    "    test = pickle.load(f)\n",
    "    \n",
    "X_train, y_train = train['features'], train['labels']\n",
    "X_test, y_test = test['features'], test['labels']"
   ]
  },
  {
   "cell_type": "markdown",
   "metadata": {},
   "source": [
    "---\n",
    "\n",
    "## Step 1: Dataset Summary & Exploration\n",
    "\n",
    "The pickled data is a dictionary with 4 key/value pairs:\n",
    "\n",
    "- `'features'` is a 4D array containing raw pixel data of the traffic sign images, (num examples, width, height, channels).\n",
    "- `'labels'` is a 2D array containing the label/class id of the traffic sign. The file `signnames.csv` contains id -> name mappings for each id.\n",
    "- `'sizes'` is a list containing tuples, (width, height) representing the the original width and height the image.\n",
    "- `'coords'` is a list containing tuples, (x1, y1, x2, y2) representing coordinates of a bounding box around the sign in the image. **THESE COORDINATES ASSUME THE ORIGINAL IMAGE. THE PICKLED DATA CONTAINS RESIZED VERSIONS (32 by 32) OF THESE IMAGES**\n",
    "\n",
    "Complete the basic data summary below."
   ]
  },
  {
   "cell_type": "code",
   "execution_count": 16,
   "metadata": {
    "collapsed": false
   },
   "outputs": [
    {
     "name": "stdout",
     "output_type": "stream",
     "text": [
      "Number of training examples = 34799\n",
      "Number of testing examples = 12630\n",
      "Image data shape = (32, 32, 3)\n",
      "Number of classes = 43\n"
     ]
    }
   ],
   "source": [
    "### Replace each question mark with the appropriate value.\n",
    "import numpy as np\n",
    "\n",
    "# TODO: Number of training examples\n",
    "n_train = len(X_train)\n",
    "\n",
    "# TODO: Number of testing examples.\n",
    "n_test = len(X_test)\n",
    "\n",
    "# TODO: What's the shape of a traffic sign image?\n",
    "image_shape = X_train[0].shape\n",
    "\n",
    "# TODO: How many unique classes/labels there are in the dataset.\n",
    "n_classes = np.unique(y_train).size\n",
    "\n",
    "print(\"Number of training examples =\", n_train)\n",
    "print(\"Number of testing examples =\", n_test)\n",
    "print(\"Image data shape =\", image_shape)\n",
    "print(\"Number of classes =\", n_classes)"
   ]
  },
  {
   "cell_type": "markdown",
   "metadata": {},
   "source": [
    "Visualize the German Traffic Signs Dataset using the pickled file(s). This is open ended, suggestions include: plotting traffic sign images, plotting the count of each sign, etc.\n",
    "\n",
    "The [Matplotlib](http://matplotlib.org/) [examples](http://matplotlib.org/examples/index.html) and [gallery](http://matplotlib.org/gallery.html) pages are a great resource for doing visualizations in Python.\n",
    "\n",
    "**NOTE:** It's recommended you start with something simple first. If you wish to do more, come back to it after you've completed the rest of the sections."
   ]
  },
  {
   "cell_type": "code",
   "execution_count": 17,
   "metadata": {
    "collapsed": false
   },
   "outputs": [
    {
     "data": {
      "image/png": "[encoded data removed]",
      "text/plain": [
       "<matplotlib.figure.Figure at 0x210b97c1128>"
      ]
     },
     "metadata": {},
     "output_type": "display_data"
    },
    {
     "name": "stdout",
     "output_type": "stream",
     "text": [
      "2\n"
     ]
    },
    {
     "data": {
      "image/png": "[encoded data removed]",
      "text/plain": [
       "<matplotlib.figure.Figure at 0x210ada36cf8>"
      ]
     },
     "metadata": {},
     "output_type": "display_data"
    }
   ],
   "source": [
    "### Data exploration visualization goes here.\n",
    "### Feel free to use as many code cells as needed.\n",
    "import matplotlib.pyplot as plt\n",
    "import random\n",
    "import scipy.ndimage\n",
    "\n",
    "# Visualizations will be shown in the notebook.\n",
    "%matplotlib inline\n",
    "label_freq = np.bincount(y_train)\n",
    "max_inputs = np.max(label_freq)\n",
    "\n",
    "plt.barh(np.arange(n_classes), label_freq, align='center', alpha=0.4)\n",
    "\n",
    "plt.xlabel('# samples')\n",
    "plt.title('Sign count')\n",
    "\n",
    "plt.show()\n",
    "\n",
    "index = random.randint(0, len(X_train))\n",
    "image = X_train[index]\n",
    "plt.figure(figsize=(1,1))\n",
    "plt.imshow(image, cmap=\"gray\")\n",
    "print(y_train[index])"
   ]
  },
  {
   "cell_type": "code",
   "execution_count": 18,
   "metadata": {
    "collapsed": false
   },
   "outputs": [],
   "source": [
    "# retrieve class labels \n",
    "import csv\n",
    "with open('signnames.csv', 'r') as file:\n",
    "    reader = csv.reader(file)\n",
    "    class_names = dict(reader)\n",
    "    \n",
    "# take a random sample per class\n",
    "sample_image_per_class = []\n",
    "for n in range(n_classes):\n",
    "    sample_image_per_class.append(np.random.choice(np.where(y_train==n)[0]))\n",
    "    \n",
    "show_images = X_train[sample_image_per_class,:,:,:]\n"
   ]
  },
  {
   "cell_type": "code",
   "execution_count": 19,
   "metadata": {
    "collapsed": false
   },
   "outputs": [
    {
     "data": {
      "image/png": "[encoded data removed]",
      "text/plain": [
       "<matplotlib.figure.Figure at 0x210a9d40438>"
      ]
     },
     "metadata": {},
     "output_type": "display_data"
    }
   ],
   "source": [
    "#show sign per class\n",
    "def show_signs(image_array, width, height):\n",
    "    fig = plt.figure()\n",
    "    for j in range(image_array.shape[0]):\n",
    "        ax = fig.add_subplot(height, width, j+1)\n",
    "        ax.imshow(image_array[j], cmap='gray')\n",
    "        plt.xticks(np.array([]))\n",
    "        plt.yticks(np.array([]))\n",
    "    plt.tight_layout()\n",
    "    \n",
    "show_signs(show_images, 8, 6)"
   ]
  },
  {
   "cell_type": "markdown",
   "metadata": {},
   "source": [
    "----\n",
    "\n",
    "## Step 2: Design and Test a Model Architecture\n",
    "\n",
    "Design and implement a deep learning model that learns to recognize traffic signs. Train and test your model on the [German Traffic Sign Dataset](http://benchmark.ini.rub.de/?section=gtsrb&subsection=dataset).\n",
    "\n",
    "There are various aspects to consider when thinking about this problem:\n",
    "\n",
    "- Neural network architecture\n",
    "- Play around preprocessing techniques (normalization, rgb to grayscale, etc)\n",
    "- Number of examples per label (some have more than others).\n",
    "- Generate fake data.\n",
    "\n",
    "Here is an example of a [published baseline model on this problem](http://yann.lecun.com/exdb/publis/pdf/sermanet-ijcnn-11.pdf). It's not required to be familiar with the approach used in the paper but, it's good practice to try to read papers like these.\n",
    "\n",
    "**NOTE:** The LeNet-5 implementation shown in the [classroom](https://classroom.udacity.com/nanodegrees/nd013/parts/fbf77062-5703-404e-b60c-95b78b2f3f9e/modules/6df7ae49-c61c-4bb2-a23e-6527e69209ec/lessons/601ae704-1035-4287-8b11-e2c2716217ad/concepts/d4aca031-508f-4e0b-b493-e7b706120f81) at the end of the CNN lesson is a solid starting point. You'll have to change the number of classes and possibly the preprocessing, but aside from that it's plug and play!"
   ]
  },
  {
   "cell_type": "markdown",
   "metadata": {},
   "source": [
    "### Implementation\n",
    "\n",
    "Use the code cell (or multiple code cells, if necessary) to implement the first step of your project. Once you have completed your implementation and are satisfied with the results, be sure to thoroughly answer the questions that follow."
   ]
  },
  {
   "cell_type": "code",
   "execution_count": 22,
   "metadata": {
    "collapsed": false
   },
   "outputs": [
    {
     "data": {
      "image/png": "[encoded data removed]",
      "text/plain": [
       "<matplotlib.figure.Figure at 0x210a9d402e8>"
      ]
     },
     "metadata": {},
     "output_type": "display_data"
    }
   ],
   "source": [
    "import cv2\n",
    "from copy import deepcopy\n",
    "\n",
    "#convert the images to grayscale\n",
    "X_train_gr = [cv2.cvtColor(X_train[n], cv2.COLOR_BGR2GRAY)\n",
    "              for n in range(np.shape(X_train)[0])]\n",
    "X_test_gr = [cv2.cvtColor(X_test[n], cv2.COLOR_BGR2GRAY)\n",
    "             for n in range(np.shape(X_test)[0])]\n",
    "    \n",
    "y_train_gr = deepcopy(y_train)\n",
    "\n",
    "plt.imshow(random.choice(X_train_gr), cmap='gray')\n",
    "plt.title('Sample grayscale sign image')\n",
    "plt.show()\n"
   ]
  },
  {
   "cell_type": "markdown",
   "metadata": {},
   "source": [
    "###Generate Additional Data"
   ]
  },
  {
   "cell_type": "code",
   "execution_count": 28,
   "metadata": {
    "collapsed": true
   },
   "outputs": [],
   "source": [
    "# functions to transform the images\n",
    "# trasformation 1\n",
    "def trans_1(image):\n",
    "    pts1 = np.float32([[0,0],[32,0],[0,32],[32,32]])\n",
    "    pts2 = np.float32([[0,0],[32,5],[0,32],[32,27]])\n",
    "\n",
    "    M = cv2.getPerspectiveTransform(pts1, pts2)\n",
    "    dst = cv2.warpPerspective(image,M,(32,32))\n",
    "    return dst\n",
    "\n",
    "# trasformation 2\n",
    "def trans_2(image):\n",
    "    pts1 = np.float32([[0,0],[32,0],[0,32],[32,32]])\n",
    "    pts2 = np.float32([[0,5],[32,0],[0,27],[32,32]])\n",
    "\n",
    "    M = cv2.getPerspectiveTransform(pts1, pts2)\n",
    "    dst = cv2.warpPerspective(image,M,(32,32))\n",
    "    return dst\n",
    "\n",
    "# trasformation 3\n",
    "def trans_3(image):\n",
    "    pts1 = np.float32([[0,0],[32,0],[0,32],[32,32]])\n",
    "    pts2 = np.float32([[5,0],[27,0],[0,32],[32,32]])\n",
    "\n",
    "    M = cv2.getPerspectiveTransform(pts1, pts2)\n",
    "    dst = cv2.warpPerspective(image,M,(32,32))\n",
    "    return dst\n",
    "\n",
    "# trasformation 4 - skew image 1\n",
    "def trans_4(image):\n",
    "    pts1 = np.float32([[0,0],[32,0],[0,32],[32,32]])\n",
    "    pts2 = np.float32([[0,0],[27,5],[5,32],[32,27]])\n",
    "\n",
    "    M = cv2.getPerspectiveTransform(pts1, pts2)\n",
    "    dst = cv2.warpPerspective(image,M,(32,32))\n",
    "    return dst\n",
    "\n",
    "# trasformation 5 - skew image 2\n",
    "def trans_5(image):\n",
    "    pts1 = np.float32([[0,0],[32,0],[0,32],[32,32]])\n",
    "    pts2 = np.float32([[5,5],[32,0],[0,27],[27,32]])\n",
    "\n",
    "    M = cv2.getPerspectiveTransform(pts1, pts2)\n",
    "    dst = cv2.warpPerspective(image,M,(32,32))\n",
    "    return dst\n",
    "\n",
    "# transformation 6 - rotation +5 to +15\n",
    "def trans_6(image):\n",
    "    # chose rotation angle randomly from a uniform distribution\n",
    "    rot_ang = int(np.random.uniform(10)) + 5\n",
    "    M = cv2.getRotationMatrix2D((16,16),rot_ang,1)\n",
    "    dst = cv2.warpAffine(image,M,(32,32))\n",
    "    return dst## visualize the transformations to be performed on the dataset\n",
    "\n",
    "\n",
    "# transformation 7 - rotation -5 to -15\n",
    "def trans_7(image):\n",
    "\n",
    "    # chose rotation angle randomly from a uniform distribution\n",
    "    rot_ang = int(np.random.uniform(-10)) - 5\n",
    "    M = cv2.getRotationMatrix2D((16,16),rot_ang,1)\n",
    "    dst = cv2.warpAffine(image,M,(32,32))\n",
    "    return dst"
   ]
  },
  {
   "cell_type": "code",
   "execution_count": 31,
   "metadata": {
    "collapsed": false
   },
   "outputs": [
    {
     "name": "stdout",
     "output_type": "stream",
     "text": [
      "Transformations performed for data augmentation:\n"
     ]
    },
    {
     "data": {
      "image/png": "[encoded data removed]",
      "text/plain": [
       "<matplotlib.figure.Figure at 0x210ab2572e8>"
      ]
     },
     "metadata": {},
     "output_type": "display_data"
    }
   ],
   "source": [
    "## visualize the transformations to be performed on the dataset\n",
    "sample_im = random.choice(X_train_gr)\n",
    "\n",
    "transformations = [trans_1, trans_2, trans_3, trans_4, trans_5, trans_6, trans_7]\n",
    "\n",
    "for i, tr in enumerate(transformations):\n",
    "    transformed = tr(sample_im)\n",
    "    plt.subplot(4,2,i+1)\n",
    "    plt.imshow(transformed, cmap='gray')\n",
    "    plt.xticks(np.array([]))\n",
    "    plt.yticks(np.array([]))\n",
    "\n",
    "print('Transformations performed for data augmentation:')"
   ]
  },
  {
   "cell_type": "code",
   "execution_count": null,
   "metadata": {
    "collapsed": false
   },
   "outputs": [
    {
     "name": "stdout",
     "output_type": "stream",
     "text": [
      "Preprocess data\n",
      "Generating additional data...\n"
     ]
    }
   ],
   "source": [
    "print('Preprocess data')\n",
    "# Generate additional data for not present classes\n",
    "print('Generating additional data...')\n",
    "angles = [-5, 5, -10, 10, -15, 15, -20, 20]\n",
    "\n",
    "for i in range(len(label_freq)):\n",
    "    input_ratio = min(int(max_inputs / label_freq[i]) - 1, len(angles) - 1)\n",
    "\n",
    "    if input_ratio <= 1:\n",
    "        continue\n",
    "\n",
    "    new_features = []\n",
    "    new_labels = []\n",
    "    mask = np.where(y_train == i)\n",
    "\n",
    "    for j in range(input_ratio):\n",
    "        for feature in X_train[mask]:\n",
    "            new_features.append(scipy.ndimage.rotate(feature, angles[j], reshape=False))\n",
    "            new_labels.append(i)\n",
    "\n",
    "    X_train = np.append(X_train, new_features, axis=0)\n",
    "    y_train = np.append(y_train, new_labels, axis=0)\n",
    "\n",
    "# Normalize features\n",
    "print('Normalizing features...')\n",
    "X_train = X_train / 255. * 0.8 + 0.1\n",
    "\n",
    "# Get randomized datasets for training and validation\n",
    "print('Randomizing datasets...')\n",
    "from sklearn.model_selection import train_test_split\n",
    "X_train, valid_features, y_train, valid_labels = train_test_split(\n",
    "   X_train,\n",
    "   y_train,\n",
    "   test_size=0.2,\n",
    "   random_state=832289\n",
    ")\n",
    "\n",
    "print('Data preprocessed')"
   ]
  },
  {
   "cell_type": "code",
   "execution_count": 5,
   "metadata": {
    "collapsed": false,
    "scrolled": true
   },
   "outputs": [
    {
     "data": {
      "image/png": "[encoded data removed]",
      "text/plain": [
       "<matplotlib.figure.Figure at 0x1b7f07ba2b0>"
      ]
     },
     "metadata": {},
     "output_type": "display_data"
    }
   ],
   "source": [
    "\n",
    "inputs_per_class = np.bincount(y_train)\n",
    "mpl_fig = plt.figure()\n",
    "ax = mpl_fig.add_subplot(111)\n",
    "ax.set_ylabel('Inputs')\n",
    "ax.set_xlabel('Class')\n",
    "ax.set_title('Number of inputs per class')\n",
    "ax.bar(range(len(inputs_per_class)), inputs_per_class, 1/3, color='blue', label='Inputs per class')\n",
    "plt.show()"
   ]
  },
  {
   "cell_type": "code",
   "execution_count": 6,
   "metadata": {
    "collapsed": false
   },
   "outputs": [
    {
     "name": "stdout",
     "output_type": "stream",
     "text": [
      "Creating network architecture...\n",
      "Network architecture created\n"
     ]
    }
   ],
   "source": [
    "print('Creating network architecture...')\n",
    "import tensorflow as tf\n",
    "# Input dimensions\n",
    "image_width = len(X_train[0][0])\n",
    "image_height = len(X_train[0])\n",
    "color_channels = len(X_train[0][0][0])\n",
    "\n",
    "# Convolutional layer patch and output size\n",
    "filter_width = 3\n",
    "filter_height = 3\n",
    "conv_k_output = 128\n",
    "\n",
    "# Dimension parameters for each fully connected layer\n",
    "fc_params = [\n",
    "    image_width * image_height * conv_k_output,\n",
    "    1024,\n",
    "    1024,\n",
    "    n_classes\n",
    "]\n",
    "\n",
    "# Build weights and biases\n",
    "conv2d_weight = None\n",
    "conv2d_bias = None\n",
    "fc_weights = []\n",
    "fc_biases = []\n",
    "\n",
    "with tf.variable_scope('JOAO', reuse=False):\n",
    "    conv2d_weight = tf.get_variable(\"conv2w\", shape=[filter_width, filter_height, color_channels, conv_k_output], initializer=tf.contrib.layers.xavier_initializer())\n",
    "    conv2d_bias = tf.get_variable(\"conv2b\", shape=[conv_k_output], initializer=tf.contrib.layers.xavier_initializer())\n",
    "    \n",
    "    for i in range(len(fc_params) - 1):\n",
    "        fc_weights.append(tf.get_variable('fc_weight' + str(i), shape=[fc_params[i], fc_params[i + 1]], initializer=tf.contrib.layers.xavier_initializer()))\n",
    "        fc_biases.append(tf.get_variable('fc_bias' + str(i), shape=[fc_params[i + 1]], initializer=tf.contrib.layers.xavier_initializer()))\n",
    "\n",
    "# One-hot encoded training and validation labels\n",
    "oh_train_labels = tf.one_hot(y_train, n_classes).eval(session=tf.Session())\n",
    "oh_valid_labels = tf.one_hot(valid_labels, n_classes).eval(session=tf.Session())\n",
    "\n",
    "# Input placeholders\n",
    "input_ph = tf.placeholder(tf.float32, shape=[None, image_width, image_height, color_channels])\n",
    "labels_ph = tf.placeholder(tf.float32)\n",
    "\n",
    "# Convolutional layer\n",
    "network = tf.nn.conv2d(input_ph, conv2d_weight, strides=[1, 1, 1, 1], padding='SAME')\n",
    "network = tf.nn.bias_add(network, conv2d_bias)\n",
    "network = tf.nn.relu(network)\n",
    "\n",
    "# Fully connected layers\n",
    "for i in range(len(fc_weights)):\n",
    "    network = tf.matmul(tf.contrib.layers.flatten(network), fc_weights[i]) + fc_biases[i]\n",
    "    if i < len(fc_weights) - 1: # No relu after last FC layer\n",
    "        network = tf.nn.relu(network)\n",
    "\n",
    "# Loss computation\n",
    "prediction = tf.nn.softmax(network)\n",
    "cross_entropy = -tf.reduce_sum(labels_ph * tf.log(prediction + 1e-6), reduction_indices=1)\n",
    "loss = tf.reduce_mean(cross_entropy)\n",
    "\n",
    "# Accuracy computation\n",
    "is_correct_prediction = tf.equal(tf.argmax(prediction, 1), tf.argmax(labels_ph, 1))\n",
    "accuracy = tf.reduce_mean(tf.cast(is_correct_prediction, tf.float32))\n",
    "\n",
    "print('Network architecture created')"
   ]
  },
  {
   "cell_type": "code",
   "execution_count": 7,
   "metadata": {
    "collapsed": false
   },
   "outputs": [
    {
     "name": "stdout",
     "output_type": "stream",
     "text": [
      "Test label one hot encoded\n"
     ]
    }
   ],
   "source": [
    "test_features = np.array(X_test) / 255 * 0.8 + 0.1\n",
    "oh_test_labels = tf.one_hot(y_test, n_classes).eval(session=tf.Session())\n",
    "print('Test label one hot encoded')"
   ]
  },
  {
   "cell_type": "code",
   "execution_count": 8,
   "metadata": {
    "collapsed": false
   },
   "outputs": [
    {
     "name": "stdout",
     "output_type": "stream",
     "text": [
      "Run batch function created\n"
     ]
    }
   ],
   "source": [
    "\n",
    "batch_size = 150\n",
    "\n",
    "def run_batch(session, network, features, labels):\n",
    "    batch_count = int(len(features) / batch_size)\n",
    "    accuracy = 0\n",
    "    \n",
    "    for i in range(batch_count):\n",
    "        batch_start = i * batch_size\n",
    "        accuracy += session.run(\n",
    "            network,\n",
    "            feed_dict={\n",
    "                input_ph: features[batch_start:batch_start + batch_size],\n",
    "                labels_ph: labels[batch_start:batch_start + batch_size]\n",
    "            }\n",
    "        )\n",
    "    \n",
    "    return accuracy / batch_count\n",
    "\n",
    "print('Run batch function created')"
   ]
  },
  {
   "cell_type": "code",
   "execution_count": 9,
   "metadata": {
    "collapsed": false
   },
   "outputs": [
    {
     "name": "stderr",
     "output_type": "stream",
     "text": [
      "Epoch  1/100: 100%|█████████████████████████████████████████████████████████████████████████████| 370/370 [00:24<00:00, 15.04batches/s]\n",
      "Epoch  2/100: 100%|█████████████████████████████████████████████████████████████████████████████| 370/370 [00:22<00:00, 15.89batches/s]\n",
      "Epoch  3/100: 100%|█████████████████████████████████████████████████████████████████████████████| 370/370 [00:23<00:00, 16.05batches/s]\n",
      "Epoch  4/100: 100%|█████████████████████████████████████████████████████████████████████████████| 370/370 [00:23<00:00, 15.43batches/s]\n",
      "Epoch  5/100: 100%|█████████████████████████████████████████████████████████████████████████████| 370/370 [00:23<00:00, 15.57batches/s]\n",
      "Epoch  6/100: 100%|█████████████████████████████████████████████████████████████████████████████| 370/370 [00:25<00:00, 15.38batches/s]\n",
      "Epoch  7/100: 100%|█████████████████████████████████████████████████████████████████████████████| 370/370 [00:23<00:00, 15.44batches/s]\n",
      "Epoch  8/100: 100%|█████████████████████████████████████████████████████████████████████████████| 370/370 [00:23<00:00, 15.78batches/s]\n",
      "Epoch  9/100: 100%|█████████████████████████████████████████████████████████████████████████████| 370/370 [00:23<00:00, 15.49batches/s]\n",
      "Epoch 10/100: 100%|█████████████████████████████████████████████████████████████████████████████| 370/370 [00:23<00:00, 15.32batches/s]\n",
      "Epoch 11/100: 100%|█████████████████████████████████████████████████████████████████████████████| 370/370 [00:23<00:00, 15.96batches/s]\n",
      "Epoch 12/100: 100%|█████████████████████████████████████████████████████████████████████████████| 370/370 [00:23<00:00, 15.92batches/s]\n",
      "Epoch 13/100: 100%|█████████████████████████████████████████████████████████████████████████████| 370/370 [00:23<00:00, 15.96batches/s]\n",
      "Epoch 14/100: 100%|█████████████████████████████████████████████████████████████████████████████| 370/370 [00:23<00:00, 15.85batches/s]\n",
      "Epoch 15/100: 100%|█████████████████████████████████████████████████████████████████████████████| 370/370 [00:23<00:00, 16.15batches/s]\n",
      "Epoch 16/100: 100%|█████████████████████████████████████████████████████████████████████████████| 370/370 [00:23<00:00, 15.53batches/s]\n",
      "Epoch 17/100: 100%|█████████████████████████████████████████████████████████████████████████████| 370/370 [00:23<00:00, 15.49batches/s]\n",
      "Epoch 18/100: 100%|█████████████████████████████████████████████████████████████████████████████| 370/370 [00:23<00:00, 15.50batches/s]\n",
      "Epoch 19/100: 100%|█████████████████████████████████████████████████████████████████████████████| 370/370 [00:23<00:00, 15.51batches/s]\n",
      "Epoch 20/100: 100%|█████████████████████████████████████████████████████████████████████████████| 370/370 [00:23<00:00, 15.51batches/s]\n",
      "Epoch 21/100: 100%|█████████████████████████████████████████████████████████████████████████████| 370/370 [00:23<00:00, 15.59batches/s]\n",
      "Epoch 22/100: 100%|█████████████████████████████████████████████████████████████████████████████| 370/370 [00:23<00:00, 15.49batches/s]\n",
      "Epoch 23/100: 100%|█████████████████████████████████████████████████████████████████████████████| 370/370 [00:23<00:00, 16.08batches/s]\n",
      "Epoch 24/100: 100%|█████████████████████████████████████████████████████████████████████████████| 370/370 [00:23<00:00, 15.89batches/s]\n",
      "Epoch 25/100: 100%|█████████████████████████████████████████████████████████████████████████████| 370/370 [00:23<00:00, 15.65batches/s]\n",
      "Epoch 26/100: 100%|█████████████████████████████████████████████████████████████████████████████| 370/370 [00:23<00:00, 15.86batches/s]\n",
      "Epoch 27/100: 100%|█████████████████████████████████████████████████████████████████████████████| 370/370 [00:23<00:00, 15.43batches/s]\n",
      "Epoch 28/100: 100%|█████████████████████████████████████████████████████████████████████████████| 370/370 [00:23<00:00, 16.33batches/s]\n",
      "Epoch 29/100: 100%|█████████████████████████████████████████████████████████████████████████████| 370/370 [00:23<00:00, 15.72batches/s]\n",
      "Epoch 30/100: 100%|█████████████████████████████████████████████████████████████████████████████| 370/370 [00:23<00:00, 15.86batches/s]\n",
      "Epoch 31/100: 100%|█████████████████████████████████████████████████████████████████████████████| 370/370 [00:23<00:00, 16.07batches/s]\n",
      "Epoch 32/100: 100%|█████████████████████████████████████████████████████████████████████████████| 370/370 [00:23<00:00, 16.09batches/s]\n",
      "Epoch 33/100: 100%|█████████████████████████████████████████████████████████████████████████████| 370/370 [00:23<00:00, 16.27batches/s]\n",
      "Epoch 34/100: 100%|█████████████████████████████████████████████████████████████████████████████| 370/370 [00:23<00:00, 15.87batches/s]\n",
      "Epoch 35/100: 100%|█████████████████████████████████████████████████████████████████████████████| 370/370 [00:23<00:00, 15.69batches/s]\n",
      "Epoch 36/100: 100%|█████████████████████████████████████████████████████████████████████████████| 370/370 [00:23<00:00, 15.89batches/s]\n",
      "Epoch 37/100: 100%|█████████████████████████████████████████████████████████████████████████████| 370/370 [00:23<00:00, 15.90batches/s]\n",
      "Epoch 38/100: 100%|█████████████████████████████████████████████████████████████████████████████| 370/370 [00:23<00:00, 16.00batches/s]\n",
      "Epoch 39/100: 100%|█████████████████████████████████████████████████████████████████████████████| 370/370 [00:23<00:00, 15.93batches/s]\n",
      "Epoch 40/100: 100%|█████████████████████████████████████████████████████████████████████████████| 370/370 [00:23<00:00, 15.53batches/s]\n",
      "Epoch 41/100: 100%|█████████████████████████████████████████████████████████████████████████████| 370/370 [00:23<00:00, 15.70batches/s]\n",
      "Epoch 42/100: 100%|█████████████████████████████████████████████████████████████████████████████| 370/370 [00:23<00:00, 15.96batches/s]\n",
      "Epoch 43/100: 100%|█████████████████████████████████████████████████████████████████████████████| 370/370 [00:23<00:00, 16.01batches/s]\n",
      "Epoch 44/100: 100%|█████████████████████████████████████████████████████████████████████████████| 370/370 [00:23<00:00, 15.84batches/s]\n",
      "Epoch 45/100: 100%|█████████████████████████████████████████████████████████████████████████████| 370/370 [00:23<00:00, 16.06batches/s]\n",
      "Epoch 46/100: 100%|█████████████████████████████████████████████████████████████████████████████| 370/370 [00:23<00:00, 16.34batches/s]\n",
      "Epoch 47/100: 100%|█████████████████████████████████████████████████████████████████████████████| 370/370 [00:23<00:00, 15.85batches/s]\n",
      "Epoch 48/100: 100%|█████████████████████████████████████████████████████████████████████████████| 370/370 [00:23<00:00, 16.02batches/s]\n",
      "Epoch 49/100: 100%|█████████████████████████████████████████████████████████████████████████████| 370/370 [00:23<00:00, 15.94batches/s]\n",
      "Epoch 50/100: 100%|█████████████████████████████████████████████████████████████████████████████| 370/370 [00:23<00:00, 15.96batches/s]\n",
      "Epoch 51/100: 100%|█████████████████████████████████████████████████████████████████████████████| 370/370 [00:23<00:00, 16.11batches/s]\n",
      "Epoch 52/100: 100%|█████████████████████████████████████████████████████████████████████████████| 370/370 [00:23<00:00, 15.88batches/s]\n",
      "Epoch 53/100: 100%|█████████████████████████████████████████████████████████████████████████████| 370/370 [00:23<00:00, 15.76batches/s]\n",
      "Epoch 54/100: 100%|█████████████████████████████████████████████████████████████████████████████| 370/370 [00:23<00:00, 14.95batches/s]\n",
      "Epoch 55/100: 100%|█████████████████████████████████████████████████████████████████████████████| 370/370 [00:20<00:00, 15.86batches/s]\n",
      "Epoch 56/100: 100%|█████████████████████████████████████████████████████████████████████████████| 370/370 [00:23<00:00, 15.76batches/s]\n",
      "Epoch 57/100: 100%|█████████████████████████████████████████████████████████████████████████████| 370/370 [00:23<00:00, 15.52batches/s]\n",
      "Epoch 58/100: 100%|█████████████████████████████████████████████████████████████████████████████| 370/370 [00:23<00:00, 16.49batches/s]\n",
      "Epoch 59/100: 100%|█████████████████████████████████████████████████████████████████████████████| 370/370 [00:23<00:00, 15.95batches/s]\n",
      "Epoch 60/100: 100%|█████████████████████████████████████████████████████████████████████████████| 370/370 [00:23<00:00, 15.90batches/s]\n",
      "Epoch 61/100: 100%|█████████████████████████████████████████████████████████████████████████████| 370/370 [00:23<00:00, 16.28batches/s]\n",
      "Epoch 62/100: 100%|█████████████████████████████████████████████████████████████████████████████| 370/370 [00:23<00:00, 16.49batches/s]\n",
      "Epoch 63/100: 100%|█████████████████████████████████████████████████████████████████████████████| 370/370 [00:23<00:00, 15.76batches/s]\n",
      "Epoch 64/100: 100%|█████████████████████████████████████████████████████████████████████████████| 370/370 [00:23<00:00, 16.19batches/s]\n",
      "Epoch 65/100: 100%|█████████████████████████████████████████████████████████████████████████████| 370/370 [00:23<00:00, 15.86batches/s]\n",
      "Epoch 66/100: 100%|█████████████████████████████████████████████████████████████████████████████| 370/370 [00:23<00:00, 15.84batches/s]\n",
      "Epoch 67/100: 100%|█████████████████████████████████████████████████████████████████████████████| 370/370 [00:23<00:00, 15.97batches/s]\n",
      "Epoch 68/100: 100%|█████████████████████████████████████████████████████████████████████████████| 370/370 [00:23<00:00, 16.00batches/s]\n",
      "Epoch 69/100: 100%|█████████████████████████████████████████████████████████████████████████████| 370/370 [00:23<00:00, 16.00batches/s]\n",
      "Epoch 70/100: 100%|█████████████████████████████████████████████████████████████████████████████| 370/370 [00:23<00:00, 15.92batches/s]\n",
      "Epoch 71/100: 100%|█████████████████████████████████████████████████████████████████████████████| 370/370 [00:23<00:00, 15.84batches/s]\n",
      "Epoch 72/100: 100%|█████████████████████████████████████████████████████████████████████████████| 370/370 [00:23<00:00, 15.72batches/s]\n",
      "Epoch 73/100: 100%|█████████████████████████████████████████████████████████████████████████████| 370/370 [00:23<00:00, 15.92batches/s]\n",
      "Epoch 74/100: 100%|█████████████████████████████████████████████████████████████████████████████| 370/370 [00:23<00:00, 15.82batches/s]\n",
      "Epoch 75/100: 100%|█████████████████████████████████████████████████████████████████████████████| 370/370 [00:23<00:00, 15.69batches/s]\n",
      "Epoch 76/100: 100%|█████████████████████████████████████████████████████████████████████████████| 370/370 [00:23<00:00, 15.46batches/s]\n",
      "Epoch 77/100: 100%|█████████████████████████████████████████████████████████████████████████████| 370/370 [00:23<00:00, 15.78batches/s]\n",
      "Epoch 78/100: 100%|█████████████████████████████████████████████████████████████████████████████| 370/370 [00:23<00:00, 15.99batches/s]\n",
      "Epoch 79/100: 100%|█████████████████████████████████████████████████████████████████████████████| 370/370 [00:23<00:00, 16.56batches/s]\n",
      "Epoch 80/100: 100%|█████████████████████████████████████████████████████████████████████████████| 370/370 [00:23<00:00, 15.08batches/s]\n",
      "Epoch 81/100: 100%|█████████████████████████████████████████████████████████████████████████████| 370/370 [00:23<00:00, 15.98batches/s]\n",
      "Epoch 82/100: 100%|█████████████████████████████████████████████████████████████████████████████| 370/370 [00:23<00:00, 16.50batches/s]\n",
      "Epoch 83/100: 100%|█████████████████████████████████████████████████████████████████████████████| 370/370 [00:23<00:00, 15.71batches/s]\n",
      "Epoch 84/100: 100%|█████████████████████████████████████████████████████████████████████████████| 370/370 [00:23<00:00, 16.14batches/s]\n",
      "Epoch 85/100: 100%|█████████████████████████████████████████████████████████████████████████████| 370/370 [00:23<00:00, 16.10batches/s]\n",
      "Epoch 86/100: 100%|█████████████████████████████████████████████████████████████████████████████| 370/370 [00:23<00:00, 15.98batches/s]\n",
      "Epoch 87/100: 100%|█████████████████████████████████████████████████████████████████████████████| 370/370 [00:23<00:00, 16.33batches/s]\n",
      "Epoch 88/100: 100%|█████████████████████████████████████████████████████████████████████████████| 370/370 [00:23<00:00, 15.91batches/s]\n",
      "Epoch 89/100: 100%|█████████████████████████████████████████████████████████████████████████████| 370/370 [00:23<00:00, 15.83batches/s]\n",
      "Epoch 90/100: 100%|█████████████████████████████████████████████████████████████████████████████| 370/370 [00:23<00:00, 15.80batches/s]\n",
      "Epoch 91/100: 100%|█████████████████████████████████████████████████████████████████████████████| 370/370 [00:23<00:00, 16.00batches/s]\n",
      "Epoch 92/100: 100%|█████████████████████████████████████████████████████████████████████████████| 370/370 [00:23<00:00, 15.63batches/s]\n",
      "Epoch 93/100: 100%|█████████████████████████████████████████████████████████████████████████████| 370/370 [00:23<00:00, 15.77batches/s]\n",
      "Epoch 94/100: 100%|█████████████████████████████████████████████████████████████████████████████| 370/370 [00:23<00:00, 16.00batches/s]\n",
      "Epoch 95/100: 100%|█████████████████████████████████████████████████████████████████████████████| 370/370 [00:23<00:00, 15.77batches/s]\n",
      "Epoch 96/100: 100%|█████████████████████████████████████████████████████████████████████████████| 370/370 [00:23<00:00, 15.93batches/s]\n",
      "Epoch 97/100: 100%|█████████████████████████████████████████████████████████████████████████████| 370/370 [00:23<00:00, 15.70batches/s]\n",
      "Epoch 98/100: 100%|█████████████████████████████████████████████████████████████████████████████| 370/370 [00:23<00:00, 15.86batches/s]\n",
      "Epoch 99/100: 100%|█████████████████████████████████████████████████████████████████████████████| 370/370 [00:23<00:00, 15.81batches/s]\n",
      "Epoch 100/100: 100%|████████████████████████████████████████████████████████████████████████████| 370/370 [00:23<00:00, 16.40batches/s]\n"
     ]
    },
    {
     "name": "stdout",
     "output_type": "stream",
     "text": [
      "Final validation accuracy:  0.989057998942\n",
      "Final test accuracy:  0.888809518445\n"
     ]
    },
    {
     "data": {
      "image/png": "[encoded data removed]",
      "text/plain": [
       "<matplotlib.figure.Figure at 0x1b7f5a0da90>"
      ]
     },
     "metadata": {},
     "output_type": "display_data"
    }
   ],
   "source": [
    "import tqdm\n",
    "from tqdm import tqdm\n",
    "\n",
    "training_epochs = 100\n",
    "optimizer = tf.train.AdamOptimizer().minimize(loss)\n",
    "\n",
    "log_batch_step = 100\n",
    "batches = []\n",
    "loss_batch = []\n",
    "train_acc_batch = []\n",
    "valid_acc_batch = []\n",
    "validation_accuracy = 0.0\n",
    "\n",
    "init = tf.global_variables_initializer()\n",
    "\n",
    "# The file path to save the data\n",
    "save_file = 'model.ckpt'\n",
    "\n",
    "# Class used to save and/or restore Tensor Variables\n",
    "saver = tf.train.Saver()\n",
    "\n",
    "session = tf.Session(config=tf.ConfigProto(log_device_placement=True))\n",
    "session.run(init)\n",
    "\n",
    "\n",
    "# Restore model weights from previously saved model\n",
    "#saver.restore(sess, model_path)\n",
    "#print(\"Model restored from file: %s\" % save_path)\n",
    "    \n",
    "batch_count = int(len(X_train) / batch_size)\n",
    "\n",
    "for epoch in range(training_epochs):\n",
    "    batches_pbar = tqdm(range(batch_count), desc='Epoch {:>2}/{}'.format(epoch + 1, training_epochs), unit='batches')\n",
    "\n",
    "    # The training cycle\n",
    "    for batch_i in batches_pbar:\n",
    "        batch_start = batch_i * batch_size\n",
    "        batch_features = X_train[batch_start:batch_start + batch_size]\n",
    "        batch_labels = oh_train_labels[batch_start:batch_start + batch_size]\n",
    "\n",
    "        _, l = session.run(\n",
    "            [optimizer, loss],\n",
    "            feed_dict={input_ph: batch_features, labels_ph: batch_labels})\n",
    "\n",
    "        if not batch_i % log_batch_step:\n",
    "            training_accuracy = session.run(\n",
    "                accuracy,\n",
    "                feed_dict={input_ph: batch_features, labels_ph: batch_labels}\n",
    "            )\n",
    "            # Save the model\n",
    "            #saver.save(session, save_file)\n",
    "            \n",
    "            idx = np.random.randint(len(valid_features), size=int(batch_size * .2))\n",
    "\n",
    "            validation_accuracy = session.run(\n",
    "                accuracy,\n",
    "                feed_dict={input_ph: valid_features[idx,:], labels_ph: oh_valid_labels[idx,:]}\n",
    "            )\n",
    "\n",
    "            # Log batches\n",
    "            previous_batch = batches[-1] if batches else 0\n",
    "            batches.append(log_batch_step + previous_batch)\n",
    "            loss_batch.append(l)\n",
    "            train_acc_batch.append(training_accuracy)\n",
    "            valid_acc_batch.append(validation_accuracy)\n",
    "    \n",
    "    #save_path = saver.save(session, save_file)\n",
    "\n",
    "\n",
    "validation_accuracy = run_batch(session, accuracy, valid_features, oh_valid_labels)    \n",
    "test_accuracy = run_batch(session, accuracy, test_features, oh_test_labels)\n",
    "\n",
    "print('Final validation accuracy: ', validation_accuracy)\n",
    "print('Final test accuracy: ', test_accuracy)\n",
    "loss_plot = plt.subplot(211)\n",
    "loss_plot.set_title('Loss')\n",
    "loss_plot.plot(batches, loss_batch, 'g')\n",
    "loss_plot.set_xlim([batches[0], batches[-1]])\n",
    "acc_plot = plt.subplot(212)\n",
    "acc_plot.set_title('Accuracy')\n",
    "acc_plot.plot(batches, train_acc_batch, 'r', label='Training Accuracy')\n",
    "acc_plot.plot(batches, valid_acc_batch, 'b', label='Validation Accuracy')\n",
    "acc_plot.set_ylim([0, 1.0])\n",
    "acc_plot.set_xlim([batches[0], batches[-1]])\n",
    "acc_plot.legend(loc=4)\n",
    "plt.tight_layout()\n",
    "plt.show()"
   ]
  },
  {
   "cell_type": "markdown",
   "metadata": {},
   "source": [
    "### Question 1 \n",
    "\n",
    "_Describe how you preprocessed the data. Why did you choose that technique?_"
   ]
  },
  {
   "cell_type": "markdown",
   "metadata": {},
   "source": [
    "**Answer:**"
   ]
  },
  {
   "cell_type": "code",
   "execution_count": null,
   "metadata": {
    "collapsed": true
   },
   "outputs": [],
   "source": [
    "### Generate data additional data (OPTIONAL!)\n",
    "### and split the data into training/validation/testing sets here.\n",
    "### Feel free to use as many code cells as needed."
   ]
  },
  {
   "cell_type": "markdown",
   "metadata": {},
   "source": [
    "### Question 2\n",
    "\n",
    "_Describe how you set up the training, validation and testing data for your model. **Optional**: If you generated additional data, how did you generate the data? Why did you generate the data? What are the differences in the new dataset (with generated data) from the original dataset?_"
   ]
  },
  {
   "cell_type": "markdown",
   "metadata": {},
   "source": [
    "**Answer:**"
   ]
  },
  {
   "cell_type": "code",
   "execution_count": null,
   "metadata": {
    "collapsed": true
   },
   "outputs": [],
   "source": [
    "### Define your architecture here.\n",
    "### Feel free to use as many code cells as needed."
   ]
  },
  {
   "cell_type": "markdown",
   "metadata": {},
   "source": [
    "### Question 3\n",
    "\n",
    "_What does your final architecture look like? (Type of model, layers, sizes, connectivity, etc.)  For reference on how to build a deep neural network using TensorFlow, see [Deep Neural Network in TensorFlow\n",
    "](https://classroom.udacity.com/nanodegrees/nd013/parts/fbf77062-5703-404e-b60c-95b78b2f3f9e/modules/6df7ae49-c61c-4bb2-a23e-6527e69209ec/lessons/b516a270-8600-4f93-a0a3-20dfeabe5da6/concepts/83a3a2a2-a9bd-4b7b-95b0-eb924ab14432) from the classroom._\n"
   ]
  },
  {
   "cell_type": "markdown",
   "metadata": {},
   "source": [
    "**Answer:**"
   ]
  },
  {
   "cell_type": "code",
   "execution_count": null,
   "metadata": {
    "collapsed": true
   },
   "outputs": [],
   "source": [
    "### Train your model here.\n",
    "### Feel free to use as many code cells as needed."
   ]
  },
  {
   "cell_type": "markdown",
   "metadata": {},
   "source": [
    "### Question 4\n",
    "\n",
    "_How did you train your model? (Type of optimizer, batch size, epochs, hyperparameters, etc.)_\n"
   ]
  },
  {
   "cell_type": "markdown",
   "metadata": {},
   "source": [
    "**Answer:**"
   ]
  },
  {
   "cell_type": "markdown",
   "metadata": {},
   "source": [
    "### Question 5\n",
    "\n",
    "\n",
    "_What approach did you take in coming up with a solution to this problem? It may have been a process of trial and error, in which case, outline the steps you took to get to the final solution and why you chose those steps. Perhaps your solution involved an already well known implementation or architecture. In this case, discuss why you think this is suitable for the current problem._"
   ]
  },
  {
   "cell_type": "markdown",
   "metadata": {},
   "source": [
    "**Answer:**"
   ]
  },
  {
   "cell_type": "markdown",
   "metadata": {},
   "source": [
    "---\n",
    "\n",
    "## Step 3: Test a Model on New Images\n",
    "\n",
    "Take several pictures of traffic signs that you find on the web or around you (at least five), and run them through your classifier on your computer to produce example results. The classifier might not recognize some local signs but it could prove interesting nonetheless.\n",
    "\n",
    "You may find `signnames.csv` useful as it contains mappings from the class id (integer) to the actual sign name."
   ]
  },
  {
   "cell_type": "markdown",
   "metadata": {},
   "source": [
    "### Implementation\n",
    "\n",
    "Use the code cell (or multiple code cells, if necessary) to implement the first step of your project. Once you have completed your implementation and are satisfied with the results, be sure to thoroughly answer the questions that follow."
   ]
  },
  {
   "cell_type": "code",
   "execution_count": null,
   "metadata": {
    "collapsed": true
   },
   "outputs": [],
   "source": [
    "### Load the images and plot them here.\n",
    "### Feel free to use as many code cells as needed."
   ]
  },
  {
   "cell_type": "markdown",
   "metadata": {},
   "source": [
    "### Question 6\n",
    "\n",
    "_Choose five candidate images of traffic signs and provide them in the report. Are there any particular qualities of the image(s) that might make classification difficult? It could be helpful to plot the images in the notebook._\n",
    "\n"
   ]
  },
  {
   "cell_type": "markdown",
   "metadata": {},
   "source": [
    "**Answer:**"
   ]
  },
  {
   "cell_type": "code",
   "execution_count": null,
   "metadata": {
    "collapsed": true
   },
   "outputs": [],
   "source": [
    "### Run the predictions here.\n",
    "### Feel free to use as many code cells as needed."
   ]
  },
  {
   "cell_type": "markdown",
   "metadata": {},
   "source": [
    "### Question 7\n",
    "\n",
    "_Is your model able to perform equally well on captured pictures when compared to testing on the dataset? The simplest way to do this check the accuracy of the predictions. For example, if the model predicted 1 out of 5 signs correctly, it's 20% accurate._\n",
    "\n",
    "_**NOTE:** You could check the accuracy manually by using `signnames.csv` (same directory). This file has a mapping from the class id (0-42) to the corresponding sign name. So, you could take the class id the model outputs, lookup the name in `signnames.csv` and see if it matches the sign from the image._\n"
   ]
  },
  {
   "cell_type": "markdown",
   "metadata": {},
   "source": [
    "**Answer:**"
   ]
  },
  {
   "cell_type": "code",
   "execution_count": null,
   "metadata": {
    "collapsed": true
   },
   "outputs": [],
   "source": [
    "### Visualize the softmax probabilities here.\n",
    "### Feel free to use as many code cells as needed."
   ]
  },
  {
   "cell_type": "markdown",
   "metadata": {},
   "source": [
    "### Question 8\n",
    "\n",
    "*Use the model's softmax probabilities to visualize the **certainty** of its predictions, [`tf.nn.top_k`](https://www.tensorflow.org/versions/r0.12/api_docs/python/nn.html#top_k) could prove helpful here. Which predictions is the model certain of? Uncertain? If the model was incorrect in its initial prediction, does the correct prediction appear in the top k? (k should be 5 at most)*\n",
    "\n",
    "`tf.nn.top_k` will return the values and indices (class ids) of the top k predictions. So if k=3, for each sign, it'll return the 3 largest probabilities (out of a possible 43) and the correspoding class ids.\n",
    "\n",
    "Take this numpy array as an example:\n",
    "\n",
    "```\n",
    "# (5, 6) array\n",
    "a = np.array([[ 0.24879643,  0.07032244,  0.12641572,  0.34763842,  0.07893497,\n",
    "         0.12789202],\n",
    "       [ 0.28086119,  0.27569815,  0.08594638,  0.0178669 ,  0.18063401,\n",
    "         0.15899337],\n",
    "       [ 0.26076848,  0.23664738,  0.08020603,  0.07001922,  0.1134371 ,\n",
    "         0.23892179],\n",
    "       [ 0.11943333,  0.29198961,  0.02605103,  0.26234032,  0.1351348 ,\n",
    "         0.16505091],\n",
    "       [ 0.09561176,  0.34396535,  0.0643941 ,  0.16240774,  0.24206137,\n",
    "         0.09155967]])\n",
    "```\n",
    "\n",
    "Running it through `sess.run(tf.nn.top_k(tf.constant(a), k=3))` produces:\n",
    "\n",
    "```\n",
    "TopKV2(values=array([[ 0.34763842,  0.24879643,  0.12789202],\n",
    "       [ 0.28086119,  0.27569815,  0.18063401],\n",
    "       [ 0.26076848,  0.23892179,  0.23664738],\n",
    "       [ 0.29198961,  0.26234032,  0.16505091],\n",
    "       [ 0.34396535,  0.24206137,  0.16240774]]), indices=array([[3, 0, 5],\n",
    "       [0, 1, 4],\n",
    "       [0, 5, 1],\n",
    "       [1, 3, 5],\n",
    "       [1, 4, 3]], dtype=int32))\n",
    "```\n",
    "\n",
    "Looking just at the first row we get `[ 0.34763842,  0.24879643,  0.12789202]`, you can confirm these are the 3 largest probabilities in `a`. You'll also notice `[3, 0, 5]` are the corresponding indices."
   ]
  },
  {
   "cell_type": "markdown",
   "metadata": {},
   "source": [
    "**Answer:**"
   ]
  },
  {
   "cell_type": "markdown",
   "metadata": {},
   "source": [
    "> **Note**: Once you have completed all of the code implementations and successfully answered each question above, you may finalize your work by exporting the iPython Notebook as an HTML document. You can do this by using the menu above and navigating to  \\n\",\n",
    "    \"**File -> Download as -> HTML (.html)**. Include the finished document along with this notebook as your submission."
   ]
  },
  {
   "cell_type": "code",
   "execution_count": null,
   "metadata": {
    "collapsed": true
   },
   "outputs": [],
   "source": []
  }
 ],
 "metadata": {
  "anaconda-cloud": {},
  "kernelspec": {
   "display_name": "Python 3",
   "language": "python",
   "name": "python3"
  },
  "language_info": {
   "codemirror_mode": {
    "name": "ipython",
    "version": 3
   },
   "file_extension": ".py",
   "mimetype": "text/x-python",
   "name": "python",
   "nbconvert_exporter": "python",
   "pygments_lexer": "ipython3",
   "version": "3.5.2"
  }
 },
 "nbformat": 4,
 "nbformat_minor": 1
}
